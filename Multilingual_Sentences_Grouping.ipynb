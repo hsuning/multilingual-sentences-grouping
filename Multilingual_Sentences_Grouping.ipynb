{
 "cells": [
  {
   "cell_type": "markdown",
   "id": "ba4fe01c",
   "metadata": {},
   "source": [
    "# Multilingual Sentences Grouping"
   ]
  },
  {
   "cell_type": "markdown",
   "id": "abb92bea",
   "metadata": {},
   "source": [
    "The target of this notebook is to match question-answer pairs across languages, by assigning a \"faq_id\" on them. The data used is a CSV file with question-answer pairs in multi-language that is built in DataScrapping Stage.\n",
    "\n",
    "The goal of this notebooke is to match question-answer pairs across _market_ (languages), group similar questions and assign a \"faq_id\" to each group\n",
    "\n",
    "**Solution Overview**\n",
    "1. Sentences level data\n",
    "2. Embedding sentences with Multilingual Universal Sentence Encoder on Tensorflow Hub (Transfer Learning)\n",
    "3. Computing sentence level semantic similarity with embeddings vectors\n",
    "4. Grouping the sentences"
   ]
  },
  {
   "cell_type": "markdown",
   "id": "1c4df373",
   "metadata": {
    "toc": true
   },
   "source": [
    "<h1>Table of Contents<span class=\"tocSkip\"></span></h1>\n",
    "<div class=\"toc\"><ul class=\"toc-item\"><li><span><a href=\"#Parameters-to-be-input-before-running\" data-toc-modified-id=\"Parameters-to-be-input-before-running-1\"><span class=\"toc-item-num\">1&nbsp;&nbsp;</span>Parameters to be input before running</a></span></li><li><span><a href=\"#Import-Libraries\" data-toc-modified-id=\"Import-Libraries-2\"><span class=\"toc-item-num\">2&nbsp;&nbsp;</span>Import Libraries</a></span></li><li><span><a href=\"#Data\" data-toc-modified-id=\"Data-3\"><span class=\"toc-item-num\">3&nbsp;&nbsp;</span>Data</a></span><ul class=\"toc-item\"><li><span><a href=\"#Summary\" data-toc-modified-id=\"Summary-3.1\"><span class=\"toc-item-num\">3.1&nbsp;&nbsp;</span>Summary</a></span></li><li><span><a href=\"#Importion\" data-toc-modified-id=\"Importion-3.2\"><span class=\"toc-item-num\">3.2&nbsp;&nbsp;</span>Importion</a></span></li><li><span><a href=\"#Overview\" data-toc-modified-id=\"Overview-3.3\"><span class=\"toc-item-num\">3.3&nbsp;&nbsp;</span>Overview</a></span></li><li><span><a href=\"#No-need-to-process-data\" data-toc-modified-id=\"No-need-to-process-data-3.4\"><span class=\"toc-item-num\">3.4&nbsp;&nbsp;</span>No need to process data</a></span></li></ul></li><li><span><a href=\"#Modelling\" data-toc-modified-id=\"Modelling-4\"><span class=\"toc-item-num\">4&nbsp;&nbsp;</span>Modelling</a></span><ul class=\"toc-item\"><li><span><a href=\"#Embeddings\" data-toc-modified-id=\"Embeddings-4.1\"><span class=\"toc-item-num\">4.1&nbsp;&nbsp;</span>Embeddings</a></span></li><li><span><a href=\"#Similarity\" data-toc-modified-id=\"Similarity-4.2\"><span class=\"toc-item-num\">4.2&nbsp;&nbsp;</span>Similarity</a></span></li></ul></li><li><span><a href=\"#Grouping\" data-toc-modified-id=\"Grouping-5\"><span class=\"toc-item-num\">5&nbsp;&nbsp;</span>Grouping</a></span><ul class=\"toc-item\"><li><span><a href=\"#Kmean-Clustering\" data-toc-modified-id=\"Kmean-Clustering-5.1\"><span class=\"toc-item-num\">5.1&nbsp;&nbsp;</span>Kmean Clustering</a></span></li><li><span><a href=\"#Custom-Grouping-Algorithm\" data-toc-modified-id=\"Custom-Grouping-Algorithm-5.2\"><span class=\"toc-item-num\">5.2&nbsp;&nbsp;</span>Custom Grouping Algorithm</a></span></li></ul></li><li><span><a href=\"#Verify-results\" data-toc-modified-id=\"Verify-results-6\"><span class=\"toc-item-num\">6&nbsp;&nbsp;</span>Verify results</a></span></li><li><span><a href=\"#Save-result-to-csv\" data-toc-modified-id=\"Save-result-to-csv-7\"><span class=\"toc-item-num\">7&nbsp;&nbsp;</span>Save result to csv</a></span></li><li><span><a href=\"#Next\" data-toc-modified-id=\"Next-8\"><span class=\"toc-item-num\">8&nbsp;&nbsp;</span>Next</a></span></li></ul></div>"
   ]
  },
  {
   "cell_type": "markdown",
   "id": "da47eb83",
   "metadata": {},
   "source": [
    "## Parameters to be input before running"
   ]
  },
  {
   "cell_type": "code",
   "execution_count": 1,
   "id": "99e73af4",
   "metadata": {},
   "outputs": [],
   "source": [
    "input_file_path = '../data/extracted_n26_new.csv'\n",
    "output_file_path = '../data/closest_matches.csv'\n",
    "output_model_path = '../codes/closest_match_model.pkl'"
   ]
  },
  {
   "cell_type": "markdown",
   "id": "1e1f8ab6",
   "metadata": {},
   "source": [
    "## Import Libraries"
   ]
  },
  {
   "cell_type": "code",
   "execution_count": 2,
   "id": "cefbd2d9",
   "metadata": {},
   "outputs": [],
   "source": [
    "import warnings\n",
    "\n",
    "warnings.filterwarnings('ignore')"
   ]
  },
  {
   "cell_type": "code",
   "execution_count": 3,
   "id": "1f175a22",
   "metadata": {},
   "outputs": [],
   "source": [
    "# It takes around 10 seconds to load all the libraries\n",
    "\n",
    "# Data Manipulation\n",
    "import pandas as pd\n",
    "import numpy as np\n",
    "import random\n",
    "\n",
    "# Modelling\n",
    "from sklearn.metrics.pairwise import cosine_similarity\n",
    "import tensorflow.compat.v2 as tf\n",
    "import tensorflow_hub as hub\n",
    "from tensorflow_text import SentencepieceTokenizer\n",
    "# from simpleneighbors import SimpleNeighbors\n",
    "from copy import deepcopy\n",
    "\n",
    "# Save model\n",
    "import joblib\n",
    "\n",
    "# Visualization\n",
    "%matplotlib inline\n",
    "import matplotlib.pyplot as plt"
   ]
  },
  {
   "cell_type": "markdown",
   "id": "079e29cd",
   "metadata": {},
   "source": [
    "## Data\n",
    "\n",
    "### Summary\n",
    "\n",
    "- Number of question-answer pairs: 1806\n",
    "- After removing the duplicates question-answer pairs in section (3.2), we have total 1084 question-answer pairs.\n",
    "- All questions come from 12 markets, scattered across seven countries (gb, at, es, fr, eu, it, de). \n",
    "- Since n26 has withdrawn from the gb market, we only collected a very small number of questions (less than 10). \n",
    "- The number of questions in de's market is generally a little more than other markets, as this is the main market of n26.\n",
    "\n",
    "**No need to process data**\n",
    "\n",
    "Universal Sentence Encoder takes greater-than-word length text, for instance, sentences, phrases, or short paragraphs. It does not require preprocessing the data as it performs best effort text input preprocessing inside the graph.\n",
    "\n",
    "**The only thing we have to do is to define the training set:**\n",
    "\n",
    "There are several options of input for modelling:\n",
    "- questions: only use questions to train the model\n",
    "- answers: only use answers to train the model. However, some answers have long paragraphs, I will test to put all in or only take first x paragraphs\n",
    "- qas: combine questions and anwers together, but only take first x paragraphs in answers.\n",
    "\n",
    "**We can also split data in different ways:**\n",
    "- embed all questions together: the result shows that the similarity between questions in same language is always higher compared to other language with exactly same meaning\n",
    "- split questions by languages and embed each language one by one: this match the purpose of the task, that we hope to build groups with only one question per market"
   ]
  },
  {
   "cell_type": "markdown",
   "id": "0e8b8419",
   "metadata": {},
   "source": [
    "### Importion"
   ]
  },
  {
   "cell_type": "code",
   "execution_count": 4,
   "id": "1e196047",
   "metadata": {},
   "outputs": [],
   "source": [
    "data_df = pd.read_csv(input_file_path, index_col=0)"
   ]
  },
  {
   "cell_type": "code",
   "execution_count": 5,
   "id": "b5b1a1ef",
   "metadata": {},
   "outputs": [],
   "source": [
    "data_df[\"locale\"] = data_df['market'].apply(lambda x: x.split('-')[0])\n",
    "data_df.rename(columns={'title':'question', 'content':'answer'}, inplace=True)"
   ]
  },
  {
   "cell_type": "code",
   "execution_count": 6,
   "id": "5df08926",
   "metadata": {},
   "outputs": [],
   "source": [
    "data_df = data_df[['locale', 'market', 'url', 'question', 'answer']].copy()"
   ]
  },
  {
   "cell_type": "code",
   "execution_count": 7,
   "id": "240b226d",
   "metadata": {},
   "outputs": [
    {
     "data": {
      "text/html": [
       "<div>\n",
       "<style scoped>\n",
       "    .dataframe tbody tr th:only-of-type {\n",
       "        vertical-align: middle;\n",
       "    }\n",
       "\n",
       "    .dataframe tbody tr th {\n",
       "        vertical-align: top;\n",
       "    }\n",
       "\n",
       "    .dataframe thead th {\n",
       "        text-align: right;\n",
       "    }\n",
       "</style>\n",
       "<table border=\"1\" class=\"dataframe\">\n",
       "  <thead>\n",
       "    <tr style=\"text-align: right;\">\n",
       "      <th></th>\n",
       "      <th>locale</th>\n",
       "      <th>market</th>\n",
       "      <th>url</th>\n",
       "      <th>question</th>\n",
       "      <th>answer</th>\n",
       "    </tr>\n",
       "  </thead>\n",
       "  <tbody>\n",
       "    <tr>\n",
       "      <th>0</th>\n",
       "      <td>en</td>\n",
       "      <td>en-de</td>\n",
       "      <td>https://support.n26.com/en-de/cards/order-and-...</td>\n",
       "      <td>When will my card arrive?</td>\n",
       "      <td>Standard delivery takes up to 15 business days...</td>\n",
       "    </tr>\n",
       "    <tr>\n",
       "      <th>1</th>\n",
       "      <td>es</td>\n",
       "      <td>es-es</td>\n",
       "      <td>https://support.n26.com/es-es/pagos-transferen...</td>\n",
       "      <td>¿Se efectuará mi domiciliación si tengo pocos ...</td>\n",
       "      <td>Si tu saldo disponible no cubre el importe de ...</td>\n",
       "    </tr>\n",
       "  </tbody>\n",
       "</table>\n",
       "</div>"
      ],
      "text/plain": [
       "  locale market                                                url  \\\n",
       "0     en  en-de  https://support.n26.com/en-de/cards/order-and-...   \n",
       "1     es  es-es  https://support.n26.com/es-es/pagos-transferen...   \n",
       "\n",
       "                                            question  \\\n",
       "0                          When will my card arrive?   \n",
       "1  ¿Se efectuará mi domiciliación si tengo pocos ...   \n",
       "\n",
       "                                              answer  \n",
       "0  Standard delivery takes up to 15 business days...  \n",
       "1  Si tu saldo disponible no cubre el importe de ...  "
      ]
     },
     "execution_count": 7,
     "metadata": {},
     "output_type": "execute_result"
    }
   ],
   "source": [
    "data_df.head(2)"
   ]
  },
  {
   "cell_type": "markdown",
   "id": "f996a6f3",
   "metadata": {},
   "source": [
    "### Overview"
   ]
  },
  {
   "cell_type": "markdown",
   "id": "55d4f876",
   "metadata": {},
   "source": [
    "We have 1844 question-answer pairs:"
   ]
  },
  {
   "cell_type": "code",
   "execution_count": 8,
   "id": "42ffb8f3",
   "metadata": {},
   "outputs": [
    {
     "name": "stdout",
     "output_type": "stream",
     "text": [
      "<class 'pandas.core.frame.DataFrame'>\n",
      "Int64Index: 1844 entries, 0 to 1843\n",
      "Data columns (total 5 columns):\n",
      " #   Column    Non-Null Count  Dtype \n",
      "---  ------    --------------  ----- \n",
      " 0   locale    1844 non-null   object\n",
      " 1   market    1844 non-null   object\n",
      " 2   url       1844 non-null   object\n",
      " 3   question  1844 non-null   object\n",
      " 4   answer    1844 non-null   object\n",
      "dtypes: object(5)\n",
      "memory usage: 86.4+ KB\n"
     ]
    }
   ],
   "source": [
    "data_df.info()"
   ]
  },
  {
   "cell_type": "markdown",
   "id": "32a1680d",
   "metadata": {},
   "source": [
    "- Almost all countries support English, so much more QAs in Engilsh. However, after removing the duplicated questions, QAs in English is just slight more than others.\n",
    "- en-gb market has just been closed, so I can only get a little data\n",
    "- There are some duplicated questions within same market. It is normal to have identical questions with same language, but not with same market. Need more investigation."
   ]
  },
  {
   "cell_type": "code",
   "execution_count": 9,
   "id": "fc909fac",
   "metadata": {},
   "outputs": [
    {
     "data": {
      "text/plain": [
       "Text(0.5, 1.0, 'market without duplication')"
      ]
     },
     "execution_count": 9,
     "metadata": {},
     "output_type": "execute_result"
    },
    {
     "data": {
      "image/png": "[encoded data removed]",
      "text/plain": [
       "<Figure size 800x500 with 4 Axes>"
      ]
     },
     "metadata": {},
     "output_type": "display_data"
    }
   ],
   "source": [
    "fig, axes = plt.subplots(nrows=2, ncols=2, figsize=(8, 5))\n",
    "fig.tight_layout() \n",
    "data_df['locale'].value_counts().plot(kind='barh', ax=axes[0, 0])\n",
    "data_df['market'].value_counts().plot(kind='barh', ax=axes[0, 1])\n",
    "data_df.groupby('locale')['question'].nunique().plot(kind='barh', ax=axes[1, 0])\n",
    "data_df.groupby('market')['question'].nunique().plot(kind='barh', ax=axes[1, 1])\n",
    "axes[0, 0].set_title('locale all questions')\n",
    "axes[0, 1].set_title('market all questions')\n",
    "axes[1, 0].set_title('locale without duplication')\n",
    "axes[1, 1].set_title('market without duplication')"
   ]
  },
  {
   "cell_type": "markdown",
   "id": "5c9820a4",
   "metadata": {},
   "source": [
    "After visualizing the data, for duplicates market-question pairs within same market:\n",
    "- they have slightly different urls. For example, different webpage versions (Android / Iphone) at the end of url\n",
    "- they have different urls, but at the end all urls will direct to same page\n",
    "For theses reasons, we can simply remove duplicates."
   ]
  },
  {
   "cell_type": "code",
   "execution_count": 10,
   "id": "58692c27",
   "metadata": {
    "scrolled": false
   },
   "outputs": [
    {
     "name": "stdout",
     "output_type": "stream",
     "text": [
      "Du bist Opfer eines Betrugs geworden? Kontaktiere uns.\n",
      "https://support.n26.com/de-at/sicherheit/kontosicherheit/wurdest-du-ziel-eines-betrugs-kontaktiere-uns\n",
      "Du bist Opfer eines Betrugs geworden? Kontaktiere uns.\n",
      "https://support.n26.com/de-at/article/4eMoEDm6RGEhlqkwKgnMcJ\n",
      "Wie kann ich meine Bestätigungs-PIN ändern?\n",
      "https://support.n26.com/de-at/sicherheit/passwort-und-codes/wie-andere-ich-meine-bestatigungs-pin\n",
      "Wie kann ich meine Bestätigungs-PIN ändern?\n",
      "https://support.n26.com/de-at/sicherheit/passwort-und-codes/wie-andere-ich-meine-bestatigungs-pin?activeTab=android\n",
      "Wie kann ich meine Bestätigungs-PIN ändern?\n",
      "https://support.n26.com/de-at/sicherheit/passwort-und-codes/wie-andere-ich-meine-bestatigungs-pin?activeTab=iphone\n"
     ]
    }
   ],
   "source": [
    "investigation = data_df[data_df.duplicated(['market', 'question'], keep=False)].sort_values(['market', 'question']).head()\n",
    "for idx, row in investigation.iterrows():\n",
    "    print(row.question)\n",
    "    print(row.url)"
   ]
  },
  {
   "cell_type": "code",
   "execution_count": 11,
   "id": "862a362a",
   "metadata": {},
   "outputs": [
    {
     "name": "stdout",
     "output_type": "stream",
     "text": [
      "Before: 1844\n",
      "After: 1806\n"
     ]
    }
   ],
   "source": [
    "print(\"Before:\", len(data_df))\n",
    "data_df.drop_duplicates(['market', 'question'], inplace=True)\n",
    "print(\"After:\", len(data_df))"
   ]
  },
  {
   "cell_type": "markdown",
   "id": "0f9ed91c",
   "metadata": {},
   "source": [
    "### No need to process data"
   ]
  },
  {
   "cell_type": "code",
   "execution_count": 12,
   "id": "5c2f1839",
   "metadata": {},
   "outputs": [],
   "source": [
    "questions_dict = data_df.groupby('market')['question'].unique().apply(list).to_dict()"
   ]
  },
  {
   "cell_type": "code",
   "execution_count": 13,
   "id": "0b4ea17d",
   "metadata": {},
   "outputs": [
    {
     "data": {
      "text/plain": [
       "dict_keys(['de-at', 'de-de', 'en-at', 'en-de', 'en-es', 'en-eu', 'en-fr', 'en-gb', 'en-it', 'es-es', 'fr-fr', 'it-it'])"
      ]
     },
     "execution_count": 13,
     "metadata": {},
     "output_type": "execute_result"
    }
   ],
   "source": [
    "questions_dict.keys()"
   ]
  },
  {
   "cell_type": "markdown",
   "id": "7fcb6563",
   "metadata": {},
   "source": [
    "## Modelling"
   ]
  },
  {
   "cell_type": "markdown",
   "id": "52d851a2",
   "metadata": {},
   "source": [
    "### Embeddings\n",
    "\n",
    "Multilingul Universal Setence Encoder modules on Tensorflow Hub are tested here.\n",
    "- The modules provide a simple way for transfer learning to other NLP tasks. \n",
    "- The modules can encode texts in multilingual (at least 16 languages)\n",
    "- The sentence embeddings tends to outperform word level transfer\n",
    "- The performance is also good with minimal amounts of data which is a good fit for the task as we only have 18k rows. \n",
    "\n",
    "I have quickly tested 4 multilingual models in TensorFlow Hub:\n",
    "1. universal-sentence-encoder-cmlm/multilingual-base: \n",
    "    - Universal sentence encoder for 100+ languages trained with conditional masked language model. \n",
    "    - https://tfhub.dev/google/universal-sentence-encoder-cmlm/multilingual-base/1\n",
    "    \n",
    "2.  universal-sentence-encoder-multilingual \n",
    "    - 16 languages (Arabic, Chinese-simplified, Chinese-traditional, English, French, German, Italian, Japanese, Korean, Dutch, Polish, Portuguese, Spanish, Thai, Turkish, Russian) text encoder. \n",
    "    - https://tfhub.dev/google/universal-sentence-encoder-multilingual/3\n",
    "    \n",
    "3.  universal-sentence-encoder-multilingual-large \n",
    "    - 16 languages (Arabic, Chinese-simplified, Chinese-traditional, English, French, German, Italian, Japanese, Korean, Dutch, Polish, Portuguese, Spanish, Thai, Turkish, Russian) text encoder. \n",
    "    - https://tfhub.dev/google/universal-sentence-encoder-multilingual-large/3\n",
    "    \n",
    "4.  universal-sentence-encoder-multilingual-qa \n",
    "    - 16 languages (Arabic, Chinese-simplified, Chinese-traditional, English, French, German, Italian, Japanese, Korean, Dutch, Polish, Portuguese, Spanish, Thai, Turkish, Russian) question answer encoder. \n",
    "    - https://tfhub.dev/google/universal-sentence-encoder-multilingual-qa/3\n",
    "    \n"
   ]
  },
  {
   "cell_type": "markdown",
   "id": "eaea11b0",
   "metadata": {},
   "source": [
    "**Encoder - universal-sentence-encoder-cmlm/multilingual-base**\n",
    "\n",
    "The purpose of the task is to match similar questions in different languages, and I want to support as many language as possible, I decided to use the first module.\n",
    "\n",
    "1. Call preprocessor module for text embeddings with Transformer encoders: uses a vocabulary for multilingual models extracted from the Wikipedia, CommonCrawl, and translation pairs from Web\n",
    "2. Call universal-sentence-encoder-cmlm multilingual module with the output of previous step\n",
    "\n",
    "The Encoder uses a BERT transformer backbone. Preprocessor allows to preprocessing plain text inputs into the input format expected by BERT."
   ]
  },
  {
   "cell_type": "code",
   "execution_count": 14,
   "id": "bf6516ac",
   "metadata": {},
   "outputs": [
    {
     "name": "stdout",
     "output_type": "stream",
     "text": [
      "WARNING:tensorflow:Please fix your imports. Module tensorflow.python.training.tracking.data_structures has been moved to tensorflow.python.trackable.data_structures. The old module will be deleted in version 2.11.\n",
      "Metal device set to: Apple M2\n"
     ]
    },
    {
     "name": "stderr",
     "output_type": "stream",
     "text": [
      "2022-11-25 09:16:13.738492: I tensorflow/core/common_runtime/pluggable_device/pluggable_device_factory.cc:306] Could not identify NUMA node of platform GPU ID 0, defaulting to 0. Your kernel may not have been built with NUMA support.\n",
      "2022-11-25 09:16:13.739082: I tensorflow/core/common_runtime/pluggable_device/pluggable_device_factory.cc:272] Created TensorFlow device (/job:localhost/replica:0/task:0/device:GPU:0 with 0 MB memory) -> physical PluggableDevice (device: 0, name: METAL, pci bus id: <undefined>)\n",
      "2022-11-25 09:16:15.987700: W tensorflow/core/platform/profile_utils/cpu_utils.cc:128] Failed to get CPU frequency: 0 Hz\n",
      "2022-11-25 09:16:16.040176: I tensorflow/core/grappler/optimizers/custom_graph_optimizer_registry.cc:114] Plugin optimizer for device_type GPU is enabled.\n"
     ]
    }
   ],
   "source": [
    "# Module from Tensorflow Colab\n",
    "# For semantic similarity tasks, apply l2 normalization to embeddings\n",
    "def normalization(embeds):\n",
    "    # 2-norm (largest sing. value) is used\n",
    "    # keepdims=True so the axes which are normed over are left in the result as dimensions with size one\n",
    "    norms = np.linalg.norm(embeds, 2, axis=1, keepdims=True)\n",
    "    return embeds / norms\n",
    "\n",
    "# Load preprocessor and encoder\n",
    "preprocessor = hub.KerasLayer(\n",
    "    \"https://tfhub.dev/google/universal-sentence-encoder-cmlm/multilingual-preprocess/2\"\n",
    ")\n",
    "encoder = hub.KerasLayer(\n",
    "    \"https://tfhub.dev/google/universal-sentence-encoder-cmlm/multilingual-base/1\"\n",
    ")"
   ]
  },
  {
   "cell_type": "code",
   "execution_count": 15,
   "id": "14f715d6",
   "metadata": {},
   "outputs": [
    {
     "name": "stderr",
     "output_type": "stream",
     "text": [
      "2022-11-25 09:17:57.565834: I tensorflow/core/grappler/optimizers/custom_graph_optimizer_registry.cc:114] Plugin optimizer for device_type GPU is enabled.\n",
      "2022-11-25 09:17:57.747034: I tensorflow/core/grappler/optimizers/custom_graph_optimizer_registry.cc:114] Plugin optimizer for device_type GPU is enabled.\n",
      "2022-11-25 09:18:09.592729: I tensorflow/core/grappler/optimizers/custom_graph_optimizer_registry.cc:114] Plugin optimizer for device_type GPU is enabled.\n",
      "2022-11-25 09:18:09.719225: I tensorflow/core/grappler/optimizers/custom_graph_optimizer_registry.cc:114] Plugin optimizer for device_type GPU is enabled.\n",
      "2022-11-25 09:18:24.104742: I tensorflow/core/grappler/optimizers/custom_graph_optimizer_registry.cc:114] Plugin optimizer for device_type GPU is enabled.\n",
      "2022-11-25 09:18:24.233478: I tensorflow/core/grappler/optimizers/custom_graph_optimizer_registry.cc:114] Plugin optimizer for device_type GPU is enabled.\n",
      "2022-11-25 09:18:51.033491: I tensorflow/core/grappler/optimizers/custom_graph_optimizer_registry.cc:114] Plugin optimizer for device_type GPU is enabled.\n",
      "2022-11-25 09:18:51.169761: I tensorflow/core/grappler/optimizers/custom_graph_optimizer_registry.cc:114] Plugin optimizer for device_type GPU is enabled.\n",
      "2022-11-25 09:19:04.590922: I tensorflow/core/grappler/optimizers/custom_graph_optimizer_registry.cc:114] Plugin optimizer for device_type GPU is enabled.\n",
      "2022-11-25 09:19:04.720406: I tensorflow/core/grappler/optimizers/custom_graph_optimizer_registry.cc:114] Plugin optimizer for device_type GPU is enabled.\n",
      "2022-11-25 09:19:18.542848: I tensorflow/core/grappler/optimizers/custom_graph_optimizer_registry.cc:114] Plugin optimizer for device_type GPU is enabled.\n",
      "2022-11-25 09:19:18.680026: I tensorflow/core/grappler/optimizers/custom_graph_optimizer_registry.cc:114] Plugin optimizer for device_type GPU is enabled.\n",
      "2022-11-25 09:19:32.582089: I tensorflow/core/grappler/optimizers/custom_graph_optimizer_registry.cc:114] Plugin optimizer for device_type GPU is enabled.\n",
      "2022-11-25 09:19:32.713248: I tensorflow/core/grappler/optimizers/custom_graph_optimizer_registry.cc:114] Plugin optimizer for device_type GPU is enabled.\n",
      "2022-11-25 09:19:33.778989: I tensorflow/core/grappler/optimizers/custom_graph_optimizer_registry.cc:114] Plugin optimizer for device_type GPU is enabled.\n",
      "2022-11-25 09:19:33.909019: I tensorflow/core/grappler/optimizers/custom_graph_optimizer_registry.cc:114] Plugin optimizer for device_type GPU is enabled.\n",
      "2022-11-25 09:20:14.573778: I tensorflow/core/grappler/optimizers/custom_graph_optimizer_registry.cc:114] Plugin optimizer for device_type GPU is enabled.\n",
      "2022-11-25 09:20:14.711886: I tensorflow/core/grappler/optimizers/custom_graph_optimizer_registry.cc:114] Plugin optimizer for device_type GPU is enabled.\n"
     ]
    }
   ],
   "source": [
    "# Run the model from Macbook M2, specifies the device for ops created/executed \n",
    "with tf.device('/cpu:0'):\n",
    "    # Dictionary with key = market and value = embeddings\n",
    "    embeds_dict = {}\n",
    "    for market, questions in questions_dict.items():\n",
    "        sentences = tf.constant(questions)\n",
    "        sentences_embeds = encoder(preprocessor(sentences))[\"default\"]\n",
    "        # For semantic similarity tasks, apply l2 normalization to embeddings\n",
    "        sentences_embeds = normalization(sentences_embeds)\n",
    "        embeds_dict[market] = deepcopy(sentences_embeds)"
   ]
  },
  {
   "cell_type": "markdown",
   "id": "3541bc2d",
   "metadata": {},
   "source": [
    "### Similarity\n",
    "\n",
    "Vectors then can be used for sentence similarity across multiple languages.\n",
    "\n",
    "I compute the element-wise sum of the representations at each word position, and divide the sum by the square root of the length of the sentence. Therefore, there will have no setence lenght effect on this Encoder."
   ]
  },
  {
   "cell_type": "code",
   "execution_count": 16,
   "id": "5277fb07",
   "metadata": {},
   "outputs": [],
   "source": [
    "def calculate_similarity(embeddings_1, embeddings_2, labels_1, labels_2):\n",
    "    \"\"\"\n",
    "    Calculate the similarity using arccos based text similarity\n",
    "    of two high-dimensional vectors\n",
    "    -------------------------\n",
    "    Args:\n",
    "        embeddings_1 (vector): embeddings produced by encoder\n",
    "        embeddings_2: embeddings produced by encoder\n",
    "        labels_1: texts in used for embeddings_1\n",
    "        labels_2: texts in used for embeddings_2\n",
    "\n",
    "    Returns:\n",
    "        df (dataframe): a pandas dataframe with three columns: \n",
    "        (texts in embeddings_1, texts in embeddings_2, similarity between two texts)\n",
    "    \"\"\"\n",
    "\n",
    "    # Check that embeddings and its labels have same length\n",
    "    assert len(embeddings_1) == len(labels_1)\n",
    "    assert len(embeddings_2) == len(labels_2)\n",
    "\n",
    "    # Calculate similarity using arccos based text similarity (Yang et al. 2019; Cer et al. 2019)\n",
    "    sim = 1 - np.arccos(cosine_similarity(embeddings_1, embeddings_2)) / np.pi\n",
    "\n",
    "    # Compute similarity between two texts\n",
    "    embeddings_1_col, embeddings_2_col, sim_col = [], [], []\n",
    "    for i in range(len(embeddings_1)):\n",
    "        for j in range(len(embeddings_2)):\n",
    "            embeddings_1_col.append(labels_1[i])\n",
    "            embeddings_2_col.append(labels_2[j])\n",
    "            sim_col.append(sim[i][j])\n",
    "\n",
    "    # Create final dataframe\n",
    "    df = pd.DataFrame(zip(embeddings_1_col, embeddings_2_col, sim_col),\n",
    "                      columns=['embeddings_1', 'embeddings_2', 'sim'])\n",
    "\n",
    "    df = df.fillna(1)\n",
    "    return df"
   ]
  },
  {
   "cell_type": "markdown",
   "id": "633571ce",
   "metadata": {},
   "source": [
    "## Grouping\n",
    "\n",
    "I have tested two methods.\n",
    "\n",
    "### Kmean Clustering\n",
    "1. build similarity matrix with ```calculate_similarity```\n",
    "2. use ```sklearn.cluster.KMeans``` with smilarity matrix as training data\n",
    "3. use Elbow method to find the most optimal number of clusters\n",
    "\n",
    "However, I have identified several problems when using this method:\n",
    "\n",
    "- Problem 1: kmean might not be able to fullfill our requirements, which to have only one question per market in each group\n",
    "\n",
    "- Problem 2: the similarity between the same language is relatively high\n",
    "```\n",
    "    Pourquoi le distributeur automatique a enregis...\t5\n",
    "    Pourquoi mon achat en ligne a-t-il échoué ?\t5\n",
    "    Pourquoi mon virement a échoué ?\t5\n",
    "    Pourquoi la liaison avec mon compte Wise a éch...\n",
    "```\n",
    "\n",
    "- Problem 3: Unable to find a suitable number of clusters\n",
    "I can't get a smooth curve even when I double the number of clusters from 200 to 500."
   ]
  },
  {
   "attachments": {
    "image.png": {
     "image/png": "[encoded data removed]"
    }
   },
   "cell_type": "markdown",
   "id": "fd931ca2",
   "metadata": {},
   "source": [
    "![image.png](attachment:image.png)"
   ]
  },
  {
   "cell_type": "markdown",
   "id": "3f004f51",
   "metadata": {},
   "source": [
    "### Custom Grouping Algorithm"
   ]
  },
  {
   "cell_type": "markdown",
   "id": "73514487",
   "metadata": {},
   "source": [
    "1. For every questions, get the most similar questions of each other market => q*(m-1)"
   ]
  },
  {
   "cell_type": "code",
   "execution_count": 17,
   "id": "30e3b5c2",
   "metadata": {},
   "outputs": [],
   "source": [
    "final_group = {}\n",
    "for market1 in questions_dict.keys():\n",
    "    for market2 in questions_dict.keys():\n",
    "        if market1 == market2:\n",
    "            continue\n",
    "            \n",
    "        # Calculate the similarity\n",
    "        similarity_df = calculate_similarity(embeds_dict[market1],\n",
    "                                             embeds_dict[market2],\n",
    "                                             questions_dict[market1],\n",
    "                                             questions_dict[market2])\n",
    "        \n",
    "        # Get the most similar question\n",
    "        similarity_df = similarity_df.fillna(0.1)\n",
    "        similarity_df = similarity_df.groupby(\"embeddings_1\").apply(\n",
    "            lambda x: x.nlargest(1, ['sim'])).reset_index(drop=True) # only get 1\n",
    "        \n",
    "        # Build a diction of tuple {questions:{market, question_multilingul, similarity}}\n",
    "        similarity_df['market'] = market2\n",
    "        match_dict = [tuple(x) for x in similarity_df.values]\n",
    "        match_dict = {t[0]:[t[1:]] for t in match_dict}\n",
    "        \n",
    "        # Update the final group (avoid duplicated questions)\n",
    "        final_group = {\n",
    "            key: final_group.get(key, []) + match_dict.get(key, [])\n",
    "            for key in set(list(final_group.keys()) + list(match_dict.keys()))\n",
    "        }"
   ]
  },
  {
   "cell_type": "code",
   "execution_count": 18,
   "id": "bccff590",
   "metadata": {},
   "outputs": [],
   "source": [
    "# Convert dictionary into a dataframe\n",
    "L = [(k, *t) for k, v in final_group.items() for t in v]\n",
    "final_group = pd.DataFrame(L, columns=['FAQ', 'question', 'similarity', 'market'])\n",
    "final_group.drop_duplicates(['FAQ', 'question', 'market'], inplace=True)"
   ]
  },
  {
   "cell_type": "code",
   "execution_count": 19,
   "id": "c0afdbf3",
   "metadata": {},
   "outputs": [
    {
     "data": {
      "text/html": [
       "<div>\n",
       "<style scoped>\n",
       "    .dataframe tbody tr th:only-of-type {\n",
       "        vertical-align: middle;\n",
       "    }\n",
       "\n",
       "    .dataframe tbody tr th {\n",
       "        vertical-align: top;\n",
       "    }\n",
       "\n",
       "    .dataframe thead th {\n",
       "        text-align: right;\n",
       "    }\n",
       "</style>\n",
       "<table border=\"1\" class=\"dataframe\">\n",
       "  <thead>\n",
       "    <tr style=\"text-align: right;\">\n",
       "      <th></th>\n",
       "      <th>FAQ</th>\n",
       "      <th>question</th>\n",
       "      <th>similarity</th>\n",
       "      <th>market</th>\n",
       "    </tr>\n",
       "  </thead>\n",
       "  <tbody>\n",
       "    <tr>\n",
       "      <th>0</th>\n",
       "      <td>¿Cómo funcionan los pagos contactless?</td>\n",
       "      <td>Wie funktionieren kontaktlose Zahlungen?</td>\n",
       "      <td>0.848610</td>\n",
       "      <td>de-at</td>\n",
       "    </tr>\n",
       "    <tr>\n",
       "      <th>1</th>\n",
       "      <td>¿Cómo funcionan los pagos contactless?</td>\n",
       "      <td>Wie funktionieren kontaktlose Zahlungen?</td>\n",
       "      <td>0.848610</td>\n",
       "      <td>de-de</td>\n",
       "    </tr>\n",
       "    <tr>\n",
       "      <th>2</th>\n",
       "      <td>¿Cómo funcionan los pagos contactless?</td>\n",
       "      <td>How do contactless payments work?</td>\n",
       "      <td>0.897137</td>\n",
       "      <td>en-at</td>\n",
       "    </tr>\n",
       "    <tr>\n",
       "      <th>3</th>\n",
       "      <td>¿Cómo funcionan los pagos contactless?</td>\n",
       "      <td>How do contactless payments work?</td>\n",
       "      <td>0.897137</td>\n",
       "      <td>en-de</td>\n",
       "    </tr>\n",
       "    <tr>\n",
       "      <th>4</th>\n",
       "      <td>¿Cómo funcionan los pagos contactless?</td>\n",
       "      <td>How do contactless payments work?</td>\n",
       "      <td>0.897137</td>\n",
       "      <td>en-es</td>\n",
       "    </tr>\n",
       "  </tbody>\n",
       "</table>\n",
       "</div>"
      ],
      "text/plain": [
       "                                      FAQ  \\\n",
       "0  ¿Cómo funcionan los pagos contactless?   \n",
       "1  ¿Cómo funcionan los pagos contactless?   \n",
       "2  ¿Cómo funcionan los pagos contactless?   \n",
       "3  ¿Cómo funcionan los pagos contactless?   \n",
       "4  ¿Cómo funcionan los pagos contactless?   \n",
       "\n",
       "                                   question  similarity market  \n",
       "0  Wie funktionieren kontaktlose Zahlungen?    0.848610  de-at  \n",
       "1  Wie funktionieren kontaktlose Zahlungen?    0.848610  de-de  \n",
       "2         How do contactless payments work?    0.897137  en-at  \n",
       "3         How do contactless payments work?    0.897137  en-de  \n",
       "4         How do contactless payments work?    0.897137  en-es  "
      ]
     },
     "execution_count": 19,
     "metadata": {},
     "output_type": "execute_result"
    }
   ],
   "source": [
    "final_group.head()"
   ]
  },
  {
   "cell_type": "code",
   "execution_count": 20,
   "id": "a971ba7a",
   "metadata": {},
   "outputs": [],
   "source": [
    "# Build the group\n",
    "\n",
    "group = 1\n",
    "question_group = pd.DataFrame({\n",
    "    'question': [],\n",
    "    'market': [],\n",
    "    'similarity': [],\n",
    "    'FAQ_id': []\n",
    "})\n",
    "\n",
    "# Start with question in English as FAQ (group name)\n",
    "for market in [\n",
    "        'en-at', 'en-de', 'en-es', 'en-eu', 'en-fr', 'en-gb', 'en-it', 'de-at',\n",
    "        'de-de', 'es-es', 'fr-fr', 'it-it'\n",
    "]:\n",
    "    # Consider that every question can only be in one group\n",
    "    for q in questions_dict[market]:\n",
    "        if q in question_group['question'].unique():\n",
    "            continue\n",
    "        gp_df = final_group[final_group['FAQ'] == q]\n",
    "        gp_df.loc['end', 'question'] = q\n",
    "        gp_df.loc['end', 'market'] = market\n",
    "        gp_df.loc['end', 'similarity'] = 1.0\n",
    "        gp_df['FAQ_id'] = group\n",
    "        question_group = pd.concat([question_group, gp_df])\n",
    "        group += 1"
   ]
  },
  {
   "cell_type": "code",
   "execution_count": 21,
   "id": "318c7a74",
   "metadata": {},
   "outputs": [],
   "source": [
    "question_group = question_group.sort_values('similarity').drop_duplicates(['question', 'market'], keep='last')"
   ]
  },
  {
   "cell_type": "code",
   "execution_count": 22,
   "id": "5de7b6df",
   "metadata": {},
   "outputs": [],
   "source": [
    "result_df = data_df.merge(question_group, how='left', on=['question', 'market'])"
   ]
  },
  {
   "cell_type": "code",
   "execution_count": 23,
   "id": "37015192",
   "metadata": {},
   "outputs": [
    {
     "name": "stdout",
     "output_type": "stream",
     "text": [
      "Number of groups: 325\n"
     ]
    }
   ],
   "source": [
    "print('Number of groups:', result_df['FAQ_id'].nunique())"
   ]
  },
  {
   "cell_type": "markdown",
   "id": "87db1403",
   "metadata": {},
   "source": [
    "Investigate questions without groups. It seems that questions without group don't have similar questions in other languages. So I simply create one new group per each question."
   ]
  },
  {
   "cell_type": "code",
   "execution_count": 24,
   "id": "af58769b",
   "metadata": {},
   "outputs": [
    {
     "data": {
      "text/html": [
       "<div>\n",
       "<style scoped>\n",
       "    .dataframe tbody tr th:only-of-type {\n",
       "        vertical-align: middle;\n",
       "    }\n",
       "\n",
       "    .dataframe tbody tr th {\n",
       "        vertical-align: top;\n",
       "    }\n",
       "\n",
       "    .dataframe thead th {\n",
       "        text-align: right;\n",
       "    }\n",
       "</style>\n",
       "<table border=\"1\" class=\"dataframe\">\n",
       "  <thead>\n",
       "    <tr style=\"text-align: right;\">\n",
       "      <th></th>\n",
       "      <th>locale</th>\n",
       "      <th>market</th>\n",
       "      <th>url</th>\n",
       "      <th>question</th>\n",
       "      <th>answer</th>\n",
       "      <th>similarity</th>\n",
       "      <th>FAQ_id</th>\n",
       "      <th>FAQ</th>\n",
       "    </tr>\n",
       "  </thead>\n",
       "  <tbody>\n",
       "    <tr>\n",
       "      <th>112</th>\n",
       "      <td>de</td>\n",
       "      <td>de-de</td>\n",
       "      <td>https://support.n26.com/de-de/zahlungen-ueberw...</td>\n",
       "      <td>Wie erstelle und verwalte ich Daueraufträge?</td>\n",
       "      <td>Wenn du in der App oder im Online Banking eine...</td>\n",
       "      <td>NaN</td>\n",
       "      <td>NaN</td>\n",
       "      <td>NaN</td>\n",
       "    </tr>\n",
       "    <tr>\n",
       "      <th>118</th>\n",
       "      <td>en</td>\n",
       "      <td>en-fr</td>\n",
       "      <td>https://support.n26.com/en-fr/payments-transfe...</td>\n",
       "      <td>How to request a refund for a direct debit?</td>\n",
       "      <td>Refunding a direct debit does not cancel the c...</td>\n",
       "      <td>NaN</td>\n",
       "      <td>NaN</td>\n",
       "      <td>NaN</td>\n",
       "    </tr>\n",
       "    <tr>\n",
       "      <th>504</th>\n",
       "      <td>en</td>\n",
       "      <td>en-eu</td>\n",
       "      <td>https://support.n26.com/en-eu/payments-transfe...</td>\n",
       "      <td>How to request a refund for a direct debit?</td>\n",
       "      <td>Refunding a direct debit does not cancel the c...</td>\n",
       "      <td>NaN</td>\n",
       "      <td>NaN</td>\n",
       "      <td>NaN</td>\n",
       "    </tr>\n",
       "    <tr>\n",
       "      <th>526</th>\n",
       "      <td>en</td>\n",
       "      <td>en-eu</td>\n",
       "      <td>https://support.n26.com/en-eu/account-and-pers...</td>\n",
       "      <td>How to file a complaint?</td>\n",
       "      <td>Looking for support or have question?If you ne...</td>\n",
       "      <td>NaN</td>\n",
       "      <td>NaN</td>\n",
       "      <td>NaN</td>\n",
       "    </tr>\n",
       "    <tr>\n",
       "      <th>608</th>\n",
       "      <td>en</td>\n",
       "      <td>en-fr</td>\n",
       "      <td>https://support.n26.com/en-fr/account-and-pers...</td>\n",
       "      <td>How to file a complaint?</td>\n",
       "      <td>Looking for support or have a question?If you ...</td>\n",
       "      <td>NaN</td>\n",
       "      <td>NaN</td>\n",
       "      <td>NaN</td>\n",
       "    </tr>\n",
       "    <tr>\n",
       "      <th>657</th>\n",
       "      <td>en</td>\n",
       "      <td>en-at</td>\n",
       "      <td>https://support.n26.com/en-at/account-and-pers...</td>\n",
       "      <td>How to file a complaint?</td>\n",
       "      <td>Looking for support or have a question?If you ...</td>\n",
       "      <td>NaN</td>\n",
       "      <td>NaN</td>\n",
       "      <td>NaN</td>\n",
       "    </tr>\n",
       "    <tr>\n",
       "      <th>822</th>\n",
       "      <td>en</td>\n",
       "      <td>en-it</td>\n",
       "      <td>https://support.n26.com/en-it/payments-transfe...</td>\n",
       "      <td>How to request a refund for a direct debit?</td>\n",
       "      <td>Refunding a direct debit does not cancel the c...</td>\n",
       "      <td>NaN</td>\n",
       "      <td>NaN</td>\n",
       "      <td>NaN</td>\n",
       "    </tr>\n",
       "    <tr>\n",
       "      <th>971</th>\n",
       "      <td>en</td>\n",
       "      <td>en-it</td>\n",
       "      <td>https://support.n26.com/en-it/account-and-pers...</td>\n",
       "      <td>How to file a complaint?</td>\n",
       "      <td>Looking for support or have a question?If you ...</td>\n",
       "      <td>NaN</td>\n",
       "      <td>NaN</td>\n",
       "      <td>NaN</td>\n",
       "    </tr>\n",
       "    <tr>\n",
       "      <th>1120</th>\n",
       "      <td>en</td>\n",
       "      <td>en-es</td>\n",
       "      <td>https://support.n26.com/en-es/payments-transfe...</td>\n",
       "      <td>How to request a refund for a direct debit?</td>\n",
       "      <td>Refunding a direct debit does not cancel the c...</td>\n",
       "      <td>NaN</td>\n",
       "      <td>NaN</td>\n",
       "      <td>NaN</td>\n",
       "    </tr>\n",
       "    <tr>\n",
       "      <th>1135</th>\n",
       "      <td>en</td>\n",
       "      <td>en-de</td>\n",
       "      <td>https://support.n26.com/en-de/payments-transfe...</td>\n",
       "      <td>How to request a refund for a direct debit?</td>\n",
       "      <td>Refunding a direct debit does not cancel the c...</td>\n",
       "      <td>NaN</td>\n",
       "      <td>NaN</td>\n",
       "      <td>NaN</td>\n",
       "    </tr>\n",
       "    <tr>\n",
       "      <th>1166</th>\n",
       "      <td>en</td>\n",
       "      <td>en-es</td>\n",
       "      <td>https://support.n26.com/en-es/account-and-pers...</td>\n",
       "      <td>How to file a complaint?</td>\n",
       "      <td>Looking for Support or have a Question?If you ...</td>\n",
       "      <td>NaN</td>\n",
       "      <td>NaN</td>\n",
       "      <td>NaN</td>\n",
       "    </tr>\n",
       "    <tr>\n",
       "      <th>1192</th>\n",
       "      <td>en</td>\n",
       "      <td>en-de</td>\n",
       "      <td>https://support.n26.com/en-de/security/account...</td>\n",
       "      <td>Received a suspicious message?</td>\n",
       "      <td>In the height of the global pandemic, EasyJet ...</td>\n",
       "      <td>NaN</td>\n",
       "      <td>NaN</td>\n",
       "      <td>NaN</td>\n",
       "    </tr>\n",
       "    <tr>\n",
       "      <th>1441</th>\n",
       "      <td>en</td>\n",
       "      <td>en-de</td>\n",
       "      <td>https://support.n26.com/en-de/account-and-pers...</td>\n",
       "      <td>How to file a complaint?</td>\n",
       "      <td>Looking for support or have a question?If you ...</td>\n",
       "      <td>NaN</td>\n",
       "      <td>NaN</td>\n",
       "      <td>NaN</td>\n",
       "    </tr>\n",
       "  </tbody>\n",
       "</table>\n",
       "</div>"
      ],
      "text/plain": [
       "     locale market                                                url  \\\n",
       "112      de  de-de  https://support.n26.com/de-de/zahlungen-ueberw...   \n",
       "118      en  en-fr  https://support.n26.com/en-fr/payments-transfe...   \n",
       "504      en  en-eu  https://support.n26.com/en-eu/payments-transfe...   \n",
       "526      en  en-eu  https://support.n26.com/en-eu/account-and-pers...   \n",
       "608      en  en-fr  https://support.n26.com/en-fr/account-and-pers...   \n",
       "657      en  en-at  https://support.n26.com/en-at/account-and-pers...   \n",
       "822      en  en-it  https://support.n26.com/en-it/payments-transfe...   \n",
       "971      en  en-it  https://support.n26.com/en-it/account-and-pers...   \n",
       "1120     en  en-es  https://support.n26.com/en-es/payments-transfe...   \n",
       "1135     en  en-de  https://support.n26.com/en-de/payments-transfe...   \n",
       "1166     en  en-es  https://support.n26.com/en-es/account-and-pers...   \n",
       "1192     en  en-de  https://support.n26.com/en-de/security/account...   \n",
       "1441     en  en-de  https://support.n26.com/en-de/account-and-pers...   \n",
       "\n",
       "                                          question  \\\n",
       "112   Wie erstelle und verwalte ich Daueraufträge?   \n",
       "118    How to request a refund for a direct debit?   \n",
       "504    How to request a refund for a direct debit?   \n",
       "526                       How to file a complaint?   \n",
       "608                       How to file a complaint?   \n",
       "657                       How to file a complaint?   \n",
       "822    How to request a refund for a direct debit?   \n",
       "971                       How to file a complaint?   \n",
       "1120   How to request a refund for a direct debit?   \n",
       "1135   How to request a refund for a direct debit?   \n",
       "1166                      How to file a complaint?   \n",
       "1192                Received a suspicious message?   \n",
       "1441                      How to file a complaint?   \n",
       "\n",
       "                                                 answer  similarity  FAQ_id  \\\n",
       "112   Wenn du in der App oder im Online Banking eine...         NaN     NaN   \n",
       "118   Refunding a direct debit does not cancel the c...         NaN     NaN   \n",
       "504   Refunding a direct debit does not cancel the c...         NaN     NaN   \n",
       "526   Looking for support or have question?If you ne...         NaN     NaN   \n",
       "608   Looking for support or have a question?If you ...         NaN     NaN   \n",
       "657   Looking for support or have a question?If you ...         NaN     NaN   \n",
       "822   Refunding a direct debit does not cancel the c...         NaN     NaN   \n",
       "971   Looking for support or have a question?If you ...         NaN     NaN   \n",
       "1120  Refunding a direct debit does not cancel the c...         NaN     NaN   \n",
       "1135  Refunding a direct debit does not cancel the c...         NaN     NaN   \n",
       "1166  Looking for Support or have a Question?If you ...         NaN     NaN   \n",
       "1192  In the height of the global pandemic, EasyJet ...         NaN     NaN   \n",
       "1441  Looking for support or have a question?If you ...         NaN     NaN   \n",
       "\n",
       "      FAQ  \n",
       "112   NaN  \n",
       "118   NaN  \n",
       "504   NaN  \n",
       "526   NaN  \n",
       "608   NaN  \n",
       "657   NaN  \n",
       "822   NaN  \n",
       "971   NaN  \n",
       "1120  NaN  \n",
       "1135  NaN  \n",
       "1166  NaN  \n",
       "1192  NaN  \n",
       "1441  NaN  "
      ]
     },
     "execution_count": 24,
     "metadata": {},
     "output_type": "execute_result"
    }
   ],
   "source": [
    "result_df[result_df['FAQ_id'].isnull()]"
   ]
  },
  {
   "cell_type": "code",
   "execution_count": 25,
   "id": "5b3101ee",
   "metadata": {},
   "outputs": [
    {
     "data": {
      "text/html": [
       "<div>\n",
       "<style scoped>\n",
       "    .dataframe tbody tr th:only-of-type {\n",
       "        vertical-align: middle;\n",
       "    }\n",
       "\n",
       "    .dataframe tbody tr th {\n",
       "        vertical-align: top;\n",
       "    }\n",
       "\n",
       "    .dataframe thead th {\n",
       "        text-align: right;\n",
       "    }\n",
       "</style>\n",
       "<table border=\"1\" class=\"dataframe\">\n",
       "  <thead>\n",
       "    <tr style=\"text-align: right;\">\n",
       "      <th></th>\n",
       "      <th>FAQ</th>\n",
       "      <th>question</th>\n",
       "      <th>similarity</th>\n",
       "      <th>market</th>\n",
       "    </tr>\n",
       "  </thead>\n",
       "  <tbody>\n",
       "    <tr>\n",
       "      <th>19575</th>\n",
       "      <td>How to file a complaint?</td>\n",
       "      <td>How to file a complaint?</td>\n",
       "      <td>0.999845</td>\n",
       "      <td>en-gb</td>\n",
       "    </tr>\n",
       "    <tr>\n",
       "      <th>19571</th>\n",
       "      <td>How to file a complaint?</td>\n",
       "      <td>How to file a complaint?</td>\n",
       "      <td>0.999754</td>\n",
       "      <td>en-de</td>\n",
       "    </tr>\n",
       "    <tr>\n",
       "      <th>19572</th>\n",
       "      <td>How to file a complaint?</td>\n",
       "      <td>How to file a complaint?</td>\n",
       "      <td>0.999754</td>\n",
       "      <td>en-es</td>\n",
       "    </tr>\n",
       "    <tr>\n",
       "      <th>19573</th>\n",
       "      <td>How to file a complaint?</td>\n",
       "      <td>How to file a complaint?</td>\n",
       "      <td>0.999754</td>\n",
       "      <td>en-eu</td>\n",
       "    </tr>\n",
       "    <tr>\n",
       "      <th>19574</th>\n",
       "      <td>How to file a complaint?</td>\n",
       "      <td>How to file a complaint?</td>\n",
       "      <td>0.999754</td>\n",
       "      <td>en-fr</td>\n",
       "    </tr>\n",
       "    <tr>\n",
       "      <th>19576</th>\n",
       "      <td>How to file a complaint?</td>\n",
       "      <td>How to file a complaint?</td>\n",
       "      <td>0.999754</td>\n",
       "      <td>en-it</td>\n",
       "    </tr>\n",
       "    <tr>\n",
       "      <th>19582</th>\n",
       "      <td>How to file a complaint?</td>\n",
       "      <td>How to file a complaint?</td>\n",
       "      <td>0.999754</td>\n",
       "      <td>en-at</td>\n",
       "    </tr>\n",
       "    <tr>\n",
       "      <th>5517</th>\n",
       "      <td>How to give feedback or suggest a new product?</td>\n",
       "      <td>How to file a complaint?</td>\n",
       "      <td>0.824682</td>\n",
       "      <td>en-gb</td>\n",
       "    </tr>\n",
       "    <tr>\n",
       "      <th>10665</th>\n",
       "      <td>Received a suspicious message?</td>\n",
       "      <td>How to file a complaint?</td>\n",
       "      <td>0.787188</td>\n",
       "      <td>en-gb</td>\n",
       "    </tr>\n",
       "    <tr>\n",
       "      <th>446</th>\n",
       "      <td>Have you been victim of a fraud? Contact us.</td>\n",
       "      <td>How to file a complaint?</td>\n",
       "      <td>0.781055</td>\n",
       "      <td>en-gb</td>\n",
       "    </tr>\n",
       "    <tr>\n",
       "      <th>908</th>\n",
       "      <td>Shared Spaces - What is a power of attorney?</td>\n",
       "      <td>How to file a complaint?</td>\n",
       "      <td>0.779413</td>\n",
       "      <td>en-gb</td>\n",
       "    </tr>\n",
       "    <tr>\n",
       "      <th>14955</th>\n",
       "      <td>What is a security footer, and why have we inc...</td>\n",
       "      <td>How to file a complaint?</td>\n",
       "      <td>0.773585</td>\n",
       "      <td>en-gb</td>\n",
       "    </tr>\n",
       "    <tr>\n",
       "      <th>11061</th>\n",
       "      <td>What's a garnishment?</td>\n",
       "      <td>How to file a complaint?</td>\n",
       "      <td>0.772293</td>\n",
       "      <td>en-gb</td>\n",
       "    </tr>\n",
       "    <tr>\n",
       "      <th>3153</th>\n",
       "      <td>Who is a Politically Exposed Person?</td>\n",
       "      <td>How to file a complaint?</td>\n",
       "      <td>0.758425</td>\n",
       "      <td>en-gb</td>\n",
       "    </tr>\n",
       "    <tr>\n",
       "      <th>3032</th>\n",
       "      <td>¿Cómo pasar a Metal?</td>\n",
       "      <td>How to file a complaint?</td>\n",
       "      <td>0.756209</td>\n",
       "      <td>en-gb</td>\n",
       "    </tr>\n",
       "    <tr>\n",
       "      <th>2130</th>\n",
       "      <td>Come posso creare Regole per i miei Spaces?</td>\n",
       "      <td>How to file a complaint?</td>\n",
       "      <td>0.752183</td>\n",
       "      <td>en-gb</td>\n",
       "    </tr>\n",
       "  </tbody>\n",
       "</table>\n",
       "</div>"
      ],
      "text/plain": [
       "                                                     FAQ  \\\n",
       "19575                           How to file a complaint?   \n",
       "19571                           How to file a complaint?   \n",
       "19572                           How to file a complaint?   \n",
       "19573                           How to file a complaint?   \n",
       "19574                           How to file a complaint?   \n",
       "19576                           How to file a complaint?   \n",
       "19582                           How to file a complaint?   \n",
       "5517      How to give feedback or suggest a new product?   \n",
       "10665                     Received a suspicious message?   \n",
       "446         Have you been victim of a fraud? Contact us.   \n",
       "908         Shared Spaces - What is a power of attorney?   \n",
       "14955  What is a security footer, and why have we inc...   \n",
       "11061                              What's a garnishment?   \n",
       "3153                Who is a Politically Exposed Person?   \n",
       "3032                                ¿Cómo pasar a Metal?   \n",
       "2130         Come posso creare Regole per i miei Spaces?   \n",
       "\n",
       "                       question  similarity market  \n",
       "19575  How to file a complaint?    0.999845  en-gb  \n",
       "19571  How to file a complaint?    0.999754  en-de  \n",
       "19572  How to file a complaint?    0.999754  en-es  \n",
       "19573  How to file a complaint?    0.999754  en-eu  \n",
       "19574  How to file a complaint?    0.999754  en-fr  \n",
       "19576  How to file a complaint?    0.999754  en-it  \n",
       "19582  How to file a complaint?    0.999754  en-at  \n",
       "5517   How to file a complaint?    0.824682  en-gb  \n",
       "10665  How to file a complaint?    0.787188  en-gb  \n",
       "446    How to file a complaint?    0.781055  en-gb  \n",
       "908    How to file a complaint?    0.779413  en-gb  \n",
       "14955  How to file a complaint?    0.773585  en-gb  \n",
       "11061  How to file a complaint?    0.772293  en-gb  \n",
       "3153   How to file a complaint?    0.758425  en-gb  \n",
       "3032   How to file a complaint?    0.756209  en-gb  \n",
       "2130   How to file a complaint?    0.752183  en-gb  "
      ]
     },
     "execution_count": 25,
     "metadata": {},
     "output_type": "execute_result"
    }
   ],
   "source": [
    "q = 'How to file a complaint?'\n",
    "final_group[\n",
    "    (final_group[\"question\"]==q)].sort_values('similarity', ascending=False).head(20)"
   ]
  },
  {
   "cell_type": "code",
   "execution_count": 26,
   "id": "33dd8fa6",
   "metadata": {},
   "outputs": [],
   "source": [
    "for q in result_df[result_df['FAQ_id'].isnull()]['question'].unique():\n",
    "    result_df.loc[result_df[result_df['question']==q].index.to_list(), 'FAQ_id'] = group\n",
    "    group += 1"
   ]
  },
  {
   "cell_type": "code",
   "execution_count": 27,
   "id": "1f33bb97",
   "metadata": {},
   "outputs": [],
   "source": [
    "result_df = result_df[['FAQ_id', 'locale', 'market', 'question', 'answer']].copy()\n",
    "result_df['FAQ_id'] = result_df['FAQ_id'].astype(int)"
   ]
  },
  {
   "cell_type": "markdown",
   "id": "6fbcd5bb",
   "metadata": {},
   "source": [
    "**Final results**"
   ]
  },
  {
   "cell_type": "code",
   "execution_count": 28,
   "id": "ff857bec",
   "metadata": {},
   "outputs": [
    {
     "data": {
      "text/html": [
       "<div>\n",
       "<style scoped>\n",
       "    .dataframe tbody tr th:only-of-type {\n",
       "        vertical-align: middle;\n",
       "    }\n",
       "\n",
       "    .dataframe tbody tr th {\n",
       "        vertical-align: top;\n",
       "    }\n",
       "\n",
       "    .dataframe thead th {\n",
       "        text-align: right;\n",
       "    }\n",
       "</style>\n",
       "<table border=\"1\" class=\"dataframe\">\n",
       "  <thead>\n",
       "    <tr style=\"text-align: right;\">\n",
       "      <th></th>\n",
       "      <th>FAQ_id</th>\n",
       "      <th>locale</th>\n",
       "      <th>market</th>\n",
       "      <th>question</th>\n",
       "      <th>answer</th>\n",
       "    </tr>\n",
       "  </thead>\n",
       "  <tbody>\n",
       "    <tr>\n",
       "      <th>0</th>\n",
       "      <td>9</td>\n",
       "      <td>en</td>\n",
       "      <td>en-de</td>\n",
       "      <td>When will my card arrive?</td>\n",
       "      <td>Standard delivery takes up to 15 business days...</td>\n",
       "    </tr>\n",
       "    <tr>\n",
       "      <th>1</th>\n",
       "      <td>228</td>\n",
       "      <td>es</td>\n",
       "      <td>es-es</td>\n",
       "      <td>¿Se efectuará mi domiciliación si tengo pocos ...</td>\n",
       "      <td>Si tu saldo disponible no cubre el importe de ...</td>\n",
       "    </tr>\n",
       "    <tr>\n",
       "      <th>2</th>\n",
       "      <td>196</td>\n",
       "      <td>es</td>\n",
       "      <td>es-es</td>\n",
       "      <td>¿Por qué me han cobrado por una domiciliación?</td>\n",
       "      <td>Las domiciliaciones devueltas por saldo insufi...</td>\n",
       "    </tr>\n",
       "    <tr>\n",
       "      <th>3</th>\n",
       "      <td>48</td>\n",
       "      <td>en</td>\n",
       "      <td>en-eu</td>\n",
       "      <td>How to change my phone number, address, or oth...</td>\n",
       "      <td>It’s important to keep your personal data up t...</td>\n",
       "    </tr>\n",
       "    <tr>\n",
       "      <th>4</th>\n",
       "      <td>119</td>\n",
       "      <td>en</td>\n",
       "      <td>en-de</td>\n",
       "      <td>How to block contactless payments on my card?</td>\n",
       "      <td>Currently only available for iOS users on the ...</td>\n",
       "    </tr>\n",
       "    <tr>\n",
       "      <th>5</th>\n",
       "      <td>85</td>\n",
       "      <td>en</td>\n",
       "      <td>en-eu</td>\n",
       "      <td>Why can’t I see other N26 users on MoneyBeam?</td>\n",
       "      <td>To carry out real-time transactions such as Mo...</td>\n",
       "    </tr>\n",
       "    <tr>\n",
       "      <th>6</th>\n",
       "      <td>98</td>\n",
       "      <td>en</td>\n",
       "      <td>en-de</td>\n",
       "      <td>How to manage my visibility as an N26 user?</td>\n",
       "      <td>To grant you access to all our in-app features...</td>\n",
       "    </tr>\n",
       "    <tr>\n",
       "      <th>7</th>\n",
       "      <td>35</td>\n",
       "      <td>es</td>\n",
       "      <td>es-es</td>\n",
       "      <td>¿Cómo funcionan los pagos contactless?</td>\n",
       "      <td>Los pagos contactless (pestaña nueva) de tu ta...</td>\n",
       "    </tr>\n",
       "    <tr>\n",
       "      <th>8</th>\n",
       "      <td>117</td>\n",
       "      <td>es</td>\n",
       "      <td>es-es</td>\n",
       "      <td>¿Qué es el formulario web de N26 para solicitu...</td>\n",
       "      <td>Proteger los datos personales y financieros de...</td>\n",
       "    </tr>\n",
       "    <tr>\n",
       "      <th>9</th>\n",
       "      <td>76</td>\n",
       "      <td>es</td>\n",
       "      <td>es-es</td>\n",
       "      <td>¿Cómo puedo hacer de N26 mi cuenta principal?</td>\n",
       "      <td>Podemos ayudarte a convertir N26 en tu cuenta ...</td>\n",
       "    </tr>\n",
       "  </tbody>\n",
       "</table>\n",
       "</div>"
      ],
      "text/plain": [
       "   FAQ_id locale market                                           question  \\\n",
       "0       9     en  en-de                          When will my card arrive?   \n",
       "1     228     es  es-es  ¿Se efectuará mi domiciliación si tengo pocos ...   \n",
       "2     196     es  es-es     ¿Por qué me han cobrado por una domiciliación?   \n",
       "3      48     en  en-eu  How to change my phone number, address, or oth...   \n",
       "4     119     en  en-de      How to block contactless payments on my card?   \n",
       "5      85     en  en-eu      Why can’t I see other N26 users on MoneyBeam?   \n",
       "6      98     en  en-de        How to manage my visibility as an N26 user?   \n",
       "7      35     es  es-es             ¿Cómo funcionan los pagos contactless?   \n",
       "8     117     es  es-es  ¿Qué es el formulario web de N26 para solicitu...   \n",
       "9      76     es  es-es      ¿Cómo puedo hacer de N26 mi cuenta principal?   \n",
       "\n",
       "                                              answer  \n",
       "0  Standard delivery takes up to 15 business days...  \n",
       "1  Si tu saldo disponible no cubre el importe de ...  \n",
       "2  Las domiciliaciones devueltas por saldo insufi...  \n",
       "3  It’s important to keep your personal data up t...  \n",
       "4  Currently only available for iOS users on the ...  \n",
       "5  To carry out real-time transactions such as Mo...  \n",
       "6  To grant you access to all our in-app features...  \n",
       "7  Los pagos contactless (pestaña nueva) de tu ta...  \n",
       "8  Proteger los datos personales y financieros de...  \n",
       "9  Podemos ayudarte a convertir N26 en tu cuenta ...  "
      ]
     },
     "execution_count": 28,
     "metadata": {},
     "output_type": "execute_result"
    }
   ],
   "source": [
    "result_df.head(10)"
   ]
  },
  {
   "cell_type": "markdown",
   "id": "b3f9d8fe",
   "metadata": {},
   "source": [
    "## Verify results\n",
    "\n",
    "A good model shall be able to demonstrate:\n",
    "- All groups are with questions that are sematically similar\n",
    "- All groups are with multi languages and market. Ideally, only one question per market.\n",
    "\n",
    "To verify, we can :\n",
    "- try a few different sample of groups\n",
    "\n",
    "To have a deeper verification, we can use a supervised dataset with groups to calculate the accuracy."
   ]
  },
  {
   "cell_type": "code",
   "execution_count": 29,
   "id": "ef14acfa",
   "metadata": {},
   "outputs": [
    {
     "data": {
      "text/plain": [
       "dict_keys(['de-at', 'de-de', 'en-at', 'en-de', 'en-es', 'en-eu', 'en-fr', 'en-gb', 'en-it', 'es-es', 'fr-fr', 'it-it'])"
      ]
     },
     "execution_count": 29,
     "metadata": {},
     "output_type": "execute_result"
    }
   ],
   "source": [
    "questions_dict.keys()"
   ]
  },
  {
   "cell_type": "code",
   "execution_count": 30,
   "id": "a0e2ce2e",
   "metadata": {},
   "outputs": [
    {
     "data": {
      "text/html": [
       "<div>\n",
       "<style scoped>\n",
       "    .dataframe tbody tr th:only-of-type {\n",
       "        vertical-align: middle;\n",
       "    }\n",
       "\n",
       "    .dataframe tbody tr th {\n",
       "        vertical-align: top;\n",
       "    }\n",
       "\n",
       "    .dataframe thead th {\n",
       "        text-align: right;\n",
       "    }\n",
       "</style>\n",
       "<table border=\"1\" class=\"dataframe\">\n",
       "  <thead>\n",
       "    <tr style=\"text-align: right;\">\n",
       "      <th></th>\n",
       "      <th>FAQ_id</th>\n",
       "      <th>locale</th>\n",
       "      <th>market</th>\n",
       "      <th>question</th>\n",
       "      <th>answer</th>\n",
       "    </tr>\n",
       "  </thead>\n",
       "  <tbody>\n",
       "    <tr>\n",
       "      <th>103</th>\n",
       "      <td>159</td>\n",
       "      <td>es</td>\n",
       "      <td>es-es</td>\n",
       "      <td>¿Por qué tengo que enviar más documentos?</td>\n",
       "      <td>Cuando hayas iniciado el proceso de verificaci...</td>\n",
       "    </tr>\n",
       "    <tr>\n",
       "      <th>170</th>\n",
       "      <td>159</td>\n",
       "      <td>it</td>\n",
       "      <td>it-it</td>\n",
       "      <td>Perché devo inviare altri documenti?</td>\n",
       "      <td>Dopo aver avviato il processo di verifica per ...</td>\n",
       "    </tr>\n",
       "    <tr>\n",
       "      <th>260</th>\n",
       "      <td>159</td>\n",
       "      <td>fr</td>\n",
       "      <td>fr-fr</td>\n",
       "      <td>Pourquoi dois-je envoyer des documents supplém...</td>\n",
       "      <td>Une fois que vous avez commencé le processus d...</td>\n",
       "    </tr>\n",
       "    <tr>\n",
       "      <th>370</th>\n",
       "      <td>159</td>\n",
       "      <td>en</td>\n",
       "      <td>en-es</td>\n",
       "      <td>Why do I need to send additional documents?</td>\n",
       "      <td>Once you have started the verification process...</td>\n",
       "    </tr>\n",
       "    <tr>\n",
       "      <th>680</th>\n",
       "      <td>159</td>\n",
       "      <td>en</td>\n",
       "      <td>en-eu</td>\n",
       "      <td>Why do I need to send additional documents?</td>\n",
       "      <td>Once you have started the verification process...</td>\n",
       "    </tr>\n",
       "    <tr>\n",
       "      <th>732</th>\n",
       "      <td>159</td>\n",
       "      <td>en</td>\n",
       "      <td>en-fr</td>\n",
       "      <td>Why do I need to send additional documents?</td>\n",
       "      <td>Once you have started the verification process...</td>\n",
       "    </tr>\n",
       "    <tr>\n",
       "      <th>888</th>\n",
       "      <td>159</td>\n",
       "      <td>en</td>\n",
       "      <td>en-it</td>\n",
       "      <td>Why do I need to send additional documents?</td>\n",
       "      <td>Once you have started the verification process...</td>\n",
       "    </tr>\n",
       "    <tr>\n",
       "      <th>1256</th>\n",
       "      <td>159</td>\n",
       "      <td>de</td>\n",
       "      <td>de-de</td>\n",
       "      <td>Warum muss ich weitere Unterlagen schicken?</td>\n",
       "      <td>Sobald du den Verifizierungsprozess zur Eröffn...</td>\n",
       "    </tr>\n",
       "    <tr>\n",
       "      <th>1457</th>\n",
       "      <td>159</td>\n",
       "      <td>en</td>\n",
       "      <td>en-de</td>\n",
       "      <td>Why do I need to send additional documents?</td>\n",
       "      <td>Once you have started the verification process...</td>\n",
       "    </tr>\n",
       "  </tbody>\n",
       "</table>\n",
       "</div>"
      ],
      "text/plain": [
       "      FAQ_id locale market                                           question  \\\n",
       "103      159     es  es-es          ¿Por qué tengo que enviar más documentos?   \n",
       "170      159     it  it-it               Perché devo inviare altri documenti?   \n",
       "260      159     fr  fr-fr  Pourquoi dois-je envoyer des documents supplém...   \n",
       "370      159     en  en-es        Why do I need to send additional documents?   \n",
       "680      159     en  en-eu        Why do I need to send additional documents?   \n",
       "732      159     en  en-fr        Why do I need to send additional documents?   \n",
       "888      159     en  en-it        Why do I need to send additional documents?   \n",
       "1256     159     de  de-de        Warum muss ich weitere Unterlagen schicken?   \n",
       "1457     159     en  en-de        Why do I need to send additional documents?   \n",
       "\n",
       "                                                 answer  \n",
       "103   Cuando hayas iniciado el proceso de verificaci...  \n",
       "170   Dopo aver avviato il processo di verifica per ...  \n",
       "260   Une fois que vous avez commencé le processus d...  \n",
       "370   Once you have started the verification process...  \n",
       "680   Once you have started the verification process...  \n",
       "732   Once you have started the verification process...  \n",
       "888   Once you have started the verification process...  \n",
       "1256  Sobald du den Verifizierungsprozess zur Eröffn...  \n",
       "1457  Once you have started the verification process...  "
      ]
     },
     "execution_count": 30,
     "metadata": {},
     "output_type": "execute_result"
    }
   ],
   "source": [
    "FAQ_id = random.choice(result_df['FAQ_id'].unique())\n",
    "result_df[result_df['FAQ_id']==FAQ_id]"
   ]
  },
  {
   "cell_type": "markdown",
   "id": "13dbbd35",
   "metadata": {},
   "source": [
    "## Save result to csv"
   ]
  },
  {
   "cell_type": "code",
   "execution_count": 31,
   "id": "03a7a3f8",
   "metadata": {},
   "outputs": [],
   "source": [
    "result_df.to_csv(output_file_path)"
   ]
  },
  {
   "cell_type": "markdown",
   "id": "639086ba",
   "metadata": {},
   "source": [
    "## Next\n",
    "- Fine tuning the model:\n",
    "    - test different similarity calcluation methods\n",
    "    - try different dataset as mentioned in section 3, to see which one provides best result\n",
    "- Test other Sentence Encoder methods, and compare the results to see which one could produce better result\n",
    "- Build a Sequential Clustering model\n",
    "- etc. There are many ways to enhance the results."
   ]
  }
 ],
 "metadata": {
  "kernelspec": {
   "display_name": "Python 3 (ipykernel)",
   "language": "python",
   "name": "python3"
  },
  "language_info": {
   "codemirror_mode": {
    "name": "ipython",
    "version": 3
   },
   "file_extension": ".py",
   "mimetype": "text/x-python",
   "name": "python",
   "nbconvert_exporter": "python",
   "pygments_lexer": "ipython3",
   "version": "3.10.6"
  },
  "toc": {
   "base_numbering": 1,
   "nav_menu": {},
   "number_sections": true,
   "sideBar": true,
   "skip_h1_title": true,
   "title_cell": "Table of Contents",
   "title_sidebar": "Contents",
   "toc_cell": true,
   "toc_position": {
    "height": "calc(100% - 180px)",
    "left": "10px",
    "top": "150px",
    "width": "384px"
   },
   "toc_section_display": true,
   "toc_window_display": true
  }
 },
 "nbformat": 4,
 "nbformat_minor": 5
}
